{
 "cells": [
  {
   "cell_type": "code",
   "execution_count": null,
   "id": "488dbfe1-1968-47d4-83a7-3daf701cecaf",
   "metadata": {},
   "outputs": [],
   "source": [
    "Q1. **Grid Search CV**: It's used for hyperparameter tuning by systematically searching through a predefined parameter grid to find the best combination. \n",
    "It works by training and evaluating the model with different hyperparameters from the grid, using cross-validation to assess performance.\n",
    "\n",
    "Q2. **Grid Search CV vs. Randomized Search CV**:\n",
    "   - Grid Search CV explores all possible hyperparameter combinations in a defined grid, while Randomized Search CV samples a random subset of combinations.\n",
    "   - Choose Grid Search when you have computational resources and want to exhaustively search. Use Randomized Search when resource constraints are a concern.\n",
    "\n",
    "Q3. **Data Leakage**: It occurs when information from the test/validation set inadvertently influences the model during training. For example, using future information or target variable in feature engineering can lead to data leakage.\n",
    "\n",
    "Q4. **Preventing Data Leakage**:\n",
    "   - Ensure a clear separation of training and validation/test datasets.\n",
    "   - Feature engineering should only use information available at the time of prediction.\n",
    "   - Avoid using the target variable to create features.\n",
    "\n",
    "Q5. **Confusion Matrix**: It summarizes the performance of a classification model by showing the true positives, true negatives, false positives, and false negatives, providing insights into how well the model is classifying instances.\n",
    "\n",
    "Q6. **Precision vs. Recall**:\n",
    "   - **Precision**: Measures the accuracy of positive predictions. High precision means fewer false positives.\n",
    "   - **Recall**: Measures the ability to capture all positive instances. High recall means fewer false negatives.\n",
    "\n",
    "Q7. **Interpreting Confusion Matrix**:\n",
    "   - Analyze the false positives and false negatives to understand the types of errors the model is making.\n",
    "   - Identify if the model is biased towards one class by comparing the number of true positives and true negatives.\n",
    "\n",
    "Q8. **Common Metrics from Confusion Matrix**:\n",
    "   - **Accuracy**: (TP + TN) / (TP + TN + FP + FN)\n",
    "   - **Precision**: TP / (TP + FP)\n",
    "   - **Recall**: TP / (TP + FN)\n",
    "   - **F1-Score**: 2 * (Precision * Recall) / (Precision + Recall)\n",
    "\n",
    "Q9. **Accuracy vs. Confusion Matrix**:\n",
    "   - Accuracy measures overall correctness but doesn't reveal specifics.\n",
    "   - The values in the confusion matrix provide a more detailed picture of a model's performance.\n",
    "\n",
    "Q10. **Using Confusion Matrix for Bias Detection**:\n",
    "   - Check if the model disproportionately misclassifies certain classes.\n",
    "   - Investigate false positives/negatives to identify biases or limitations related to data quality or model training."
   ]
  }
 ],
 "metadata": {
  "kernelspec": {
   "display_name": "Python 3 (ipykernel)",
   "language": "python",
   "name": "python3"
  },
  "language_info": {
   "codemirror_mode": {
    "name": "ipython",
    "version": 3
   },
   "file_extension": ".py",
   "mimetype": "text/x-python",
   "name": "python",
   "nbconvert_exporter": "python",
   "pygments_lexer": "ipython3",
   "version": "3.10.8"
  }
 },
 "nbformat": 4,
 "nbformat_minor": 5
}
